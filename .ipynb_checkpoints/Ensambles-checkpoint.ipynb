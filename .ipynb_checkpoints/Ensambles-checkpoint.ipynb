{
 "cells": [
  {
   "cell_type": "code",
   "execution_count": 4,
   "id": "92f60d48-7462-45c3-87c5-887784cd19aa",
   "metadata": {},
   "outputs": [
    {
     "name": "stdout",
     "output_type": "stream",
     "text": [
      "Collecting scikit-learn\n",
      "  Using cached scikit_learn-1.3.2-cp310-cp310-win_amd64.whl.metadata (11 kB)\n",
      "Requirement already satisfied: numpy<2.0,>=1.17.3 in c:\\users\\rodri\\onedrive\\imágenes\\documentos\\infotec\\segundo trimestre\\aprendizaje computacional\\unidad 10 (ensambles)\\myenv\\lib\\site-packages (from scikit-learn) (1.26.1)\n",
      "Requirement already satisfied: scipy>=1.5.0 in c:\\users\\rodri\\onedrive\\imágenes\\documentos\\infotec\\segundo trimestre\\aprendizaje computacional\\unidad 10 (ensambles)\\myenv\\lib\\site-packages (from scikit-learn) (1.11.3)\n",
      "Collecting joblib>=1.1.1 (from scikit-learn)\n",
      "  Using cached joblib-1.3.2-py3-none-any.whl.metadata (5.4 kB)\n",
      "Collecting threadpoolctl>=2.0.0 (from scikit-learn)\n",
      "  Using cached threadpoolctl-3.2.0-py3-none-any.whl.metadata (10.0 kB)\n",
      "Using cached scikit_learn-1.3.2-cp310-cp310-win_amd64.whl (9.3 MB)\n",
      "Using cached joblib-1.3.2-py3-none-any.whl (302 kB)\n",
      "Using cached threadpoolctl-3.2.0-py3-none-any.whl (15 kB)\n",
      "Installing collected packages: threadpoolctl, joblib, scikit-learn\n",
      "Successfully installed joblib-1.3.2 scikit-learn-1.3.2 threadpoolctl-3.2.0\n"
     ]
    }
   ],
   "source": [
    "!pip install scikit-learn"
   ]
  },
  {
   "cell_type": "code",
   "execution_count": 6,
   "id": "dadd4af9-b42c-4267-a5b2-514efdec8263",
   "metadata": {},
   "outputs": [
    {
     "name": "stdout",
     "output_type": "stream",
     "text": [
      "Collecting matplotlib\n",
      "  Downloading matplotlib-3.8.1-cp310-cp310-win_amd64.whl.metadata (5.9 kB)\n",
      "Collecting contourpy>=1.0.1 (from matplotlib)\n",
      "  Downloading contourpy-1.2.0-cp310-cp310-win_amd64.whl.metadata (5.8 kB)\n",
      "Collecting cycler>=0.10 (from matplotlib)\n",
      "  Downloading cycler-0.12.1-py3-none-any.whl.metadata (3.8 kB)\n",
      "Collecting fonttools>=4.22.0 (from matplotlib)\n",
      "  Downloading fonttools-4.44.0-cp310-cp310-win_amd64.whl.metadata (156 kB)\n",
      "     ---------------------------------------- 0.0/156.8 kB ? eta -:--:--\n",
      "     ------- ------------------------------- 30.7/156.8 kB 1.3 MB/s eta 0:00:01\n",
      "     -------------- ---------------------- 61.4/156.8 kB 656.4 kB/s eta 0:00:01\n",
      "     ------------------------- ---------- 112.6/156.8 kB 819.2 kB/s eta 0:00:01\n",
      "     ------------------------------------ 156.8/156.8 kB 939.2 kB/s eta 0:00:00\n",
      "Collecting kiwisolver>=1.3.1 (from matplotlib)\n",
      "  Downloading kiwisolver-1.4.5-cp310-cp310-win_amd64.whl.metadata (6.5 kB)\n",
      "Requirement already satisfied: numpy<2,>=1.21 in c:\\users\\rodri\\onedrive\\imágenes\\documentos\\infotec\\segundo trimestre\\aprendizaje computacional\\unidad 10 (ensambles)\\myenv\\lib\\site-packages (from matplotlib) (1.26.1)\n",
      "Requirement already satisfied: packaging>=20.0 in c:\\users\\rodri\\onedrive\\imágenes\\documentos\\infotec\\segundo trimestre\\aprendizaje computacional\\unidad 10 (ensambles)\\myenv\\lib\\site-packages (from matplotlib) (23.2)\n",
      "Collecting pillow>=8 (from matplotlib)\n",
      "  Downloading Pillow-10.1.0-cp310-cp310-win_amd64.whl.metadata (9.6 kB)\n",
      "Collecting pyparsing>=2.3.1 (from matplotlib)\n",
      "  Downloading pyparsing-3.1.1-py3-none-any.whl.metadata (5.1 kB)\n",
      "Requirement already satisfied: python-dateutil>=2.7 in c:\\users\\rodri\\onedrive\\imágenes\\documentos\\infotec\\segundo trimestre\\aprendizaje computacional\\unidad 10 (ensambles)\\myenv\\lib\\site-packages (from matplotlib) (2.8.2)\n",
      "Requirement already satisfied: six>=1.5 in c:\\users\\rodri\\onedrive\\imágenes\\documentos\\infotec\\segundo trimestre\\aprendizaje computacional\\unidad 10 (ensambles)\\myenv\\lib\\site-packages (from python-dateutil>=2.7->matplotlib) (1.16.0)\n",
      "Downloading matplotlib-3.8.1-cp310-cp310-win_amd64.whl (7.6 MB)\n",
      "   ---------------------------------------- 0.0/7.6 MB ? eta -:--:--\n",
      "   ---------------------------------------- 0.1/7.6 MB 3.2 MB/s eta 0:00:03\n",
      "   - -------------------------------------- 0.2/7.6 MB 2.5 MB/s eta 0:00:03\n",
      "   - -------------------------------------- 0.3/7.6 MB 2.6 MB/s eta 0:00:03\n",
      "   -- ------------------------------------- 0.5/7.6 MB 3.0 MB/s eta 0:00:03\n",
      "   --- ------------------------------------ 0.7/7.6 MB 3.1 MB/s eta 0:00:03\n",
      "   ---- ----------------------------------- 0.9/7.6 MB 3.3 MB/s eta 0:00:03\n",
      "   ----- ---------------------------------- 1.1/7.6 MB 3.4 MB/s eta 0:00:02\n",
      "   ------ --------------------------------- 1.2/7.6 MB 3.4 MB/s eta 0:00:02\n",
      "   ------- -------------------------------- 1.4/7.6 MB 3.4 MB/s eta 0:00:02\n",
      "   ------- -------------------------------- 1.5/7.6 MB 3.4 MB/s eta 0:00:02\n",
      "   ------- -------------------------------- 1.5/7.6 MB 3.4 MB/s eta 0:00:02\n",
      "   -------- ------------------------------- 1.7/7.6 MB 3.0 MB/s eta 0:00:02\n",
      "   --------- ------------------------------ 1.8/7.6 MB 3.1 MB/s eta 0:00:02\n",
      "   ---------- ----------------------------- 1.9/7.6 MB 3.1 MB/s eta 0:00:02\n",
      "   ---------- ----------------------------- 2.0/7.6 MB 2.9 MB/s eta 0:00:02\n",
      "   ----------- ---------------------------- 2.1/7.6 MB 3.0 MB/s eta 0:00:02\n",
      "   ----------- ---------------------------- 2.3/7.6 MB 2.9 MB/s eta 0:00:02\n",
      "   ------------ --------------------------- 2.4/7.6 MB 3.0 MB/s eta 0:00:02\n",
      "   ------------- -------------------------- 2.5/7.6 MB 2.9 MB/s eta 0:00:02\n",
      "   -------------- ------------------------- 2.7/7.6 MB 3.0 MB/s eta 0:00:02\n",
      "   -------------- ------------------------- 2.9/7.6 MB 2.9 MB/s eta 0:00:02\n",
      "   --------------- ------------------------ 3.0/7.6 MB 3.0 MB/s eta 0:00:02\n",
      "   ---------------- ----------------------- 3.2/7.6 MB 3.0 MB/s eta 0:00:02\n",
      "   ----------------- ---------------------- 3.4/7.6 MB 3.1 MB/s eta 0:00:02\n",
      "   ------------------ --------------------- 3.6/7.6 MB 3.1 MB/s eta 0:00:02\n",
      "   ------------------- -------------------- 3.7/7.6 MB 3.1 MB/s eta 0:00:02\n",
      "   -------------------- ------------------- 3.9/7.6 MB 3.1 MB/s eta 0:00:02\n",
      "   -------------------- ------------------- 4.0/7.6 MB 3.1 MB/s eta 0:00:02\n",
      "   --------------------- ------------------ 4.0/7.6 MB 3.0 MB/s eta 0:00:02\n",
      "   --------------------- ------------------ 4.1/7.6 MB 3.0 MB/s eta 0:00:02\n",
      "   ---------------------- ----------------- 4.2/7.6 MB 2.9 MB/s eta 0:00:02\n",
      "   ---------------------- ----------------- 4.3/7.6 MB 2.9 MB/s eta 0:00:02\n",
      "   ----------------------- ---------------- 4.5/7.6 MB 2.9 MB/s eta 0:00:02\n",
      "   ------------------------ --------------- 4.6/7.6 MB 3.0 MB/s eta 0:00:02\n",
      "   ------------------------ --------------- 4.8/7.6 MB 2.9 MB/s eta 0:00:01\n",
      "   ------------------------- -------------- 4.9/7.6 MB 2.9 MB/s eta 0:00:01\n",
      "   -------------------------- ------------- 5.1/7.6 MB 2.9 MB/s eta 0:00:01\n",
      "   --------------------------- ------------ 5.2/7.6 MB 3.0 MB/s eta 0:00:01\n",
      "   ---------------------------- ----------- 5.4/7.6 MB 2.9 MB/s eta 0:00:01\n",
      "   ---------------------------- ----------- 5.5/7.6 MB 3.0 MB/s eta 0:00:01\n",
      "   ----------------------------- ---------- 5.6/7.6 MB 2.9 MB/s eta 0:00:01\n",
      "   ------------------------------ --------- 5.8/7.6 MB 3.0 MB/s eta 0:00:01\n",
      "   ------------------------------ --------- 5.9/7.6 MB 2.9 MB/s eta 0:00:01\n",
      "   ------------------------------- -------- 6.1/7.6 MB 3.0 MB/s eta 0:00:01\n",
      "   -------------------------------- ------- 6.2/7.6 MB 3.0 MB/s eta 0:00:01\n",
      "   --------------------------------- ------ 6.4/7.6 MB 3.0 MB/s eta 0:00:01\n",
      "   ---------------------------------- ----- 6.5/7.6 MB 3.0 MB/s eta 0:00:01\n",
      "   ----------------------------------- ---- 6.7/7.6 MB 3.0 MB/s eta 0:00:01\n",
      "   ----------------------------------- ---- 6.8/7.6 MB 3.0 MB/s eta 0:00:01\n",
      "   ------------------------------------ --- 7.0/7.6 MB 3.0 MB/s eta 0:00:01\n",
      "   ------------------------------------- -- 7.1/7.6 MB 3.0 MB/s eta 0:00:01\n",
      "   -------------------------------------- - 7.4/7.6 MB 3.0 MB/s eta 0:00:01\n",
      "   ---------------------------------------  7.5/7.6 MB 3.0 MB/s eta 0:00:01\n",
      "   ---------------------------------------  7.6/7.6 MB 3.1 MB/s eta 0:00:01\n",
      "   ---------------------------------------- 7.6/7.6 MB 3.0 MB/s eta 0:00:00\n",
      "Downloading contourpy-1.2.0-cp310-cp310-win_amd64.whl (186 kB)\n",
      "   ---------------------------------------- 0.0/186.7 kB ? eta -:--:--\n",
      "   -------------------------- ------------- 122.9/186.7 kB 2.4 MB/s eta 0:00:01\n",
      "   ---------------------------------------- 186.7/186.7 kB 2.8 MB/s eta 0:00:00\n",
      "Downloading cycler-0.12.1-py3-none-any.whl (8.3 kB)\n",
      "Downloading fonttools-4.44.0-cp310-cp310-win_amd64.whl (2.1 MB)\n",
      "   ---------------------------------------- 0.0/2.1 MB ? eta -:--:--\n",
      "   - -------------------------------------- 0.1/2.1 MB 1.3 MB/s eta 0:00:02\n",
      "   ---- ----------------------------------- 0.2/2.1 MB 2.9 MB/s eta 0:00:01\n",
      "   ------ --------------------------------- 0.4/2.1 MB 2.5 MB/s eta 0:00:01\n",
      "   --------- ------------------------------ 0.5/2.1 MB 3.0 MB/s eta 0:00:01\n",
      "   ------------ --------------------------- 0.7/2.1 MB 2.9 MB/s eta 0:00:01\n",
      "   ---------------- ----------------------- 0.9/2.1 MB 3.1 MB/s eta 0:00:01\n",
      "   ------------------ --------------------- 1.0/2.1 MB 3.1 MB/s eta 0:00:01\n",
      "   --------------------- ------------------ 1.1/2.1 MB 3.2 MB/s eta 0:00:01\n",
      "   ------------------------ --------------- 1.3/2.1 MB 3.1 MB/s eta 0:00:01\n",
      "   --------------------------- ------------ 1.5/2.1 MB 3.2 MB/s eta 0:00:01\n",
      "   ------------------------------ --------- 1.6/2.1 MB 3.2 MB/s eta 0:00:01\n",
      "   --------------------------------- ------ 1.8/2.1 MB 3.2 MB/s eta 0:00:01\n",
      "   ------------------------------------- -- 2.0/2.1 MB 3.3 MB/s eta 0:00:01\n",
      "   ---------------------------------------  2.1/2.1 MB 3.2 MB/s eta 0:00:01\n",
      "   ---------------------------------------- 2.1/2.1 MB 3.2 MB/s eta 0:00:00\n",
      "Downloading kiwisolver-1.4.5-cp310-cp310-win_amd64.whl (56 kB)\n",
      "   ---------------------------------------- 0.0/56.1 kB ? eta -:--:--\n",
      "   ---------------------------------------- 56.1/56.1 kB 2.9 MB/s eta 0:00:00\n",
      "Downloading Pillow-10.1.0-cp310-cp310-win_amd64.whl (2.6 MB)\n",
      "   ---------------------------------------- 0.0/2.6 MB ? eta -:--:--\n",
      "   - -------------------------------------- 0.1/2.6 MB 3.6 MB/s eta 0:00:01\n",
      "   ---- ----------------------------------- 0.3/2.6 MB 3.1 MB/s eta 0:00:01\n",
      "   ------ --------------------------------- 0.4/2.6 MB 3.6 MB/s eta 0:00:01\n",
      "   --------- ------------------------------ 0.6/2.6 MB 3.3 MB/s eta 0:00:01\n",
      "   ---------- ----------------------------- 0.7/2.6 MB 3.4 MB/s eta 0:00:01\n",
      "   ------------- -------------------------- 0.9/2.6 MB 3.2 MB/s eta 0:00:01\n",
      "   --------------- ------------------------ 1.0/2.6 MB 3.3 MB/s eta 0:00:01\n",
      "   ------------------ --------------------- 1.2/2.6 MB 3.2 MB/s eta 0:00:01\n",
      "   -------------------- ------------------- 1.4/2.6 MB 3.3 MB/s eta 0:00:01\n",
      "   ----------------------- ---------------- 1.5/2.6 MB 3.2 MB/s eta 0:00:01\n",
      "   ------------------------- -------------- 1.6/2.6 MB 3.3 MB/s eta 0:00:01\n",
      "   ---------------------------- ----------- 1.8/2.6 MB 3.2 MB/s eta 0:00:01\n",
      "   ----------------------------- ---------- 1.9/2.6 MB 3.3 MB/s eta 0:00:01\n",
      "   -------------------------------- ------- 2.1/2.6 MB 3.2 MB/s eta 0:00:01\n",
      "   ---------------------------------- ----- 2.2/2.6 MB 3.2 MB/s eta 0:00:01\n",
      "   ------------------------------------- -- 2.4/2.6 MB 3.1 MB/s eta 0:00:01\n",
      "   -------------------------------------- - 2.5/2.6 MB 3.2 MB/s eta 0:00:01\n",
      "   ---------------------------------------- 2.6/2.6 MB 3.1 MB/s eta 0:00:00\n",
      "Downloading pyparsing-3.1.1-py3-none-any.whl (103 kB)\n",
      "   ---------------------------------------- 0.0/103.1 kB ? eta -:--:--\n",
      "   ---------------------------------------  102.4/103.1 kB 3.0 MB/s eta 0:00:01\n",
      "   ---------------------------------------- 103.1/103.1 kB 2.0 MB/s eta 0:00:00\n",
      "Installing collected packages: pyparsing, pillow, kiwisolver, fonttools, cycler, contourpy, matplotlib\n",
      "Successfully installed contourpy-1.2.0 cycler-0.12.1 fonttools-4.44.0 kiwisolver-1.4.5 matplotlib-3.8.1 pillow-10.1.0 pyparsing-3.1.1\n"
     ]
    }
   ],
   "source": [
    "!pip install matplotlib"
   ]
  },
  {
   "cell_type": "code",
   "execution_count": 8,
   "id": "b592fa71-5b66-4495-8145-e4936cc0ea09",
   "metadata": {},
   "outputs": [
    {
     "name": "stdout",
     "output_type": "stream",
     "text": [
      "Collecting pandas\n",
      "  Downloading pandas-2.1.2-cp310-cp310-win_amd64.whl.metadata (18 kB)\n",
      "Requirement already satisfied: numpy<2,>=1.22.4 in c:\\users\\rodri\\onedrive\\imágenes\\documentos\\infotec\\segundo trimestre\\aprendizaje computacional\\unidad 10 (ensambles)\\myenv\\lib\\site-packages (from pandas) (1.26.1)\n",
      "Requirement already satisfied: python-dateutil>=2.8.2 in c:\\users\\rodri\\onedrive\\imágenes\\documentos\\infotec\\segundo trimestre\\aprendizaje computacional\\unidad 10 (ensambles)\\myenv\\lib\\site-packages (from pandas) (2.8.2)\n",
      "Collecting pytz>=2020.1 (from pandas)\n",
      "  Downloading pytz-2023.3.post1-py2.py3-none-any.whl.metadata (22 kB)\n",
      "Collecting tzdata>=2022.1 (from pandas)\n",
      "  Downloading tzdata-2023.3-py2.py3-none-any.whl (341 kB)\n",
      "     ---------------------------------------- 0.0/341.8 kB ? eta -:--:--\n",
      "     -------- ------------------------------ 71.7/341.8 kB 2.0 MB/s eta 0:00:01\n",
      "     ----------------- -------------------- 153.6/341.8 kB 1.8 MB/s eta 0:00:01\n",
      "     --------------------------- ---------- 245.8/341.8 kB 1.9 MB/s eta 0:00:01\n",
      "     -------------------------------------- 341.8/341.8 kB 2.1 MB/s eta 0:00:00\n",
      "Requirement already satisfied: six>=1.5 in c:\\users\\rodri\\onedrive\\imágenes\\documentos\\infotec\\segundo trimestre\\aprendizaje computacional\\unidad 10 (ensambles)\\myenv\\lib\\site-packages (from python-dateutil>=2.8.2->pandas) (1.16.0)\n",
      "Downloading pandas-2.1.2-cp310-cp310-win_amd64.whl (10.7 MB)\n",
      "   ---------------------------------------- 0.0/10.7 MB ? eta -:--:--\n",
      "   ---------------------------------------- 0.1/10.7 MB 2.2 MB/s eta 0:00:05\n",
      "    --------------------------------------- 0.3/10.7 MB 2.6 MB/s eta 0:00:04\n",
      "   - -------------------------------------- 0.4/10.7 MB 3.0 MB/s eta 0:00:04\n",
      "   - -------------------------------------- 0.5/10.7 MB 2.5 MB/s eta 0:00:05\n",
      "   -- ------------------------------------- 0.7/10.7 MB 2.7 MB/s eta 0:00:04\n",
      "   -- ------------------------------------- 0.8/10.7 MB 2.8 MB/s eta 0:00:04\n",
      "   --- ------------------------------------ 0.9/10.7 MB 2.8 MB/s eta 0:00:04\n",
      "   --- ------------------------------------ 1.0/10.7 MB 2.6 MB/s eta 0:00:04\n",
      "   ---- ----------------------------------- 1.1/10.7 MB 2.6 MB/s eta 0:00:04\n",
      "   ---- ----------------------------------- 1.2/10.7 MB 2.4 MB/s eta 0:00:04\n",
      "   ---- ----------------------------------- 1.3/10.7 MB 2.5 MB/s eta 0:00:04\n",
      "   ----- ---------------------------------- 1.4/10.7 MB 2.4 MB/s eta 0:00:04\n",
      "   ----- ---------------------------------- 1.5/10.7 MB 2.4 MB/s eta 0:00:04\n",
      "   ----- ---------------------------------- 1.6/10.7 MB 2.5 MB/s eta 0:00:04\n",
      "   ------ --------------------------------- 1.7/10.7 MB 2.5 MB/s eta 0:00:04\n",
      "   ------- -------------------------------- 1.9/10.7 MB 2.6 MB/s eta 0:00:04\n",
      "   ------- -------------------------------- 2.1/10.7 MB 2.6 MB/s eta 0:00:04\n",
      "   ------- -------------------------------- 2.1/10.7 MB 2.6 MB/s eta 0:00:04\n",
      "   -------- ------------------------------- 2.3/10.7 MB 2.5 MB/s eta 0:00:04\n",
      "   --------- ------------------------------ 2.4/10.7 MB 2.6 MB/s eta 0:00:04\n",
      "   --------- ------------------------------ 2.6/10.7 MB 2.5 MB/s eta 0:00:04\n",
      "   ---------- ----------------------------- 2.8/10.7 MB 2.7 MB/s eta 0:00:03\n",
      "   ---------- ----------------------------- 2.9/10.7 MB 2.6 MB/s eta 0:00:04\n",
      "   ---------- ----------------------------- 2.9/10.7 MB 2.6 MB/s eta 0:00:03\n",
      "   ----------- ---------------------------- 3.0/10.7 MB 2.5 MB/s eta 0:00:04\n",
      "   ----------- ---------------------------- 3.0/10.7 MB 2.5 MB/s eta 0:00:04\n",
      "   ----------- ---------------------------- 3.0/10.7 MB 2.4 MB/s eta 0:00:04\n",
      "   ----------- ---------------------------- 3.1/10.7 MB 2.3 MB/s eta 0:00:04\n",
      "   ----------- ---------------------------- 3.2/10.7 MB 2.3 MB/s eta 0:00:04\n",
      "   ----------- ---------------------------- 3.2/10.7 MB 2.2 MB/s eta 0:00:04\n",
      "   ------------ --------------------------- 3.2/10.7 MB 2.2 MB/s eta 0:00:04\n",
      "   ------------ --------------------------- 3.3/10.7 MB 2.2 MB/s eta 0:00:04\n",
      "   ------------ --------------------------- 3.4/10.7 MB 2.2 MB/s eta 0:00:04\n",
      "   ------------- -------------------------- 3.5/10.7 MB 2.2 MB/s eta 0:00:04\n",
      "   ------------- -------------------------- 3.6/10.7 MB 2.2 MB/s eta 0:00:04\n",
      "   ------------- -------------------------- 3.6/10.7 MB 2.1 MB/s eta 0:00:04\n",
      "   ------------- -------------------------- 3.7/10.7 MB 2.1 MB/s eta 0:00:04\n",
      "   -------------- ------------------------- 3.8/10.7 MB 2.1 MB/s eta 0:00:04\n",
      "   -------------- ------------------------- 3.9/10.7 MB 2.1 MB/s eta 0:00:04\n",
      "   --------------- ------------------------ 4.0/10.7 MB 2.1 MB/s eta 0:00:04\n",
      "   --------------- ------------------------ 4.1/10.7 MB 2.1 MB/s eta 0:00:04\n",
      "   ---------------- ----------------------- 4.3/10.7 MB 2.2 MB/s eta 0:00:03\n",
      "   ---------------- ----------------------- 4.4/10.7 MB 2.2 MB/s eta 0:00:03\n",
      "   ----------------- ---------------------- 4.6/10.7 MB 2.2 MB/s eta 0:00:03\n",
      "   ----------------- ---------------------- 4.7/10.7 MB 2.2 MB/s eta 0:00:03\n",
      "   ----------------- ---------------------- 4.8/10.7 MB 2.2 MB/s eta 0:00:03\n",
      "   ------------------ --------------------- 4.9/10.7 MB 2.2 MB/s eta 0:00:03\n",
      "   ------------------ --------------------- 4.9/10.7 MB 2.2 MB/s eta 0:00:03\n",
      "   ------------------ --------------------- 5.1/10.7 MB 2.2 MB/s eta 0:00:03\n",
      "   ------------------ --------------------- 5.1/10.7 MB 2.2 MB/s eta 0:00:03\n",
      "   ------------------- -------------------- 5.2/10.7 MB 2.2 MB/s eta 0:00:03\n",
      "   ------------------- -------------------- 5.3/10.7 MB 2.2 MB/s eta 0:00:03\n",
      "   -------------------- ------------------- 5.4/10.7 MB 2.2 MB/s eta 0:00:03\n",
      "   -------------------- ------------------- 5.4/10.7 MB 2.1 MB/s eta 0:00:03\n",
      "   -------------------- ------------------- 5.5/10.7 MB 2.1 MB/s eta 0:00:03\n",
      "   -------------------- ------------------- 5.6/10.7 MB 2.1 MB/s eta 0:00:03\n",
      "   --------------------- ------------------ 5.8/10.7 MB 2.1 MB/s eta 0:00:03\n",
      "   --------------------- ------------------ 5.8/10.7 MB 2.1 MB/s eta 0:00:03\n",
      "   ---------------------- ----------------- 6.0/10.7 MB 2.2 MB/s eta 0:00:03\n",
      "   ---------------------- ----------------- 6.1/10.7 MB 2.2 MB/s eta 0:00:03\n",
      "   ----------------------- ---------------- 6.2/10.7 MB 2.2 MB/s eta 0:00:03\n",
      "   ----------------------- ---------------- 6.3/10.7 MB 2.2 MB/s eta 0:00:03\n",
      "   ----------------------- ---------------- 6.4/10.7 MB 2.2 MB/s eta 0:00:02\n",
      "   ------------------------ --------------- 6.4/10.7 MB 2.1 MB/s eta 0:00:03\n",
      "   ------------------------ --------------- 6.6/10.7 MB 2.2 MB/s eta 0:00:02\n",
      "   ------------------------- -------------- 6.8/10.7 MB 2.2 MB/s eta 0:00:02\n",
      "   ------------------------- -------------- 7.0/10.7 MB 2.2 MB/s eta 0:00:02\n",
      "   -------------------------- ------------- 7.0/10.7 MB 2.2 MB/s eta 0:00:02\n",
      "   --------------------------- ------------ 7.2/10.7 MB 2.2 MB/s eta 0:00:02\n",
      "   --------------------------- ------------ 7.4/10.7 MB 2.2 MB/s eta 0:00:02\n",
      "   ---------------------------- ----------- 7.6/10.7 MB 2.3 MB/s eta 0:00:02\n",
      "   ---------------------------- ----------- 7.6/10.7 MB 2.3 MB/s eta 0:00:02\n",
      "   ---------------------------- ----------- 7.6/10.7 MB 2.2 MB/s eta 0:00:02\n",
      "   ---------------------------- ----------- 7.6/10.7 MB 2.2 MB/s eta 0:00:02\n",
      "   ---------------------------- ----------- 7.7/10.7 MB 2.2 MB/s eta 0:00:02\n",
      "   ---------------------------- ----------- 7.7/10.7 MB 2.2 MB/s eta 0:00:02\n",
      "   ---------------------------- ----------- 7.7/10.7 MB 2.2 MB/s eta 0:00:02\n",
      "   ---------------------------- ----------- 7.7/10.7 MB 2.2 MB/s eta 0:00:02\n",
      "   ---------------------------- ----------- 7.7/10.7 MB 2.1 MB/s eta 0:00:02\n",
      "   ---------------------------- ----------- 7.7/10.7 MB 2.1 MB/s eta 0:00:02\n",
      "   ---------------------------- ----------- 7.8/10.7 MB 2.0 MB/s eta 0:00:02\n",
      "   ----------------------------- ---------- 7.8/10.7 MB 2.0 MB/s eta 0:00:02\n",
      "   ----------------------------- ---------- 7.8/10.7 MB 2.0 MB/s eta 0:00:02\n",
      "   ----------------------------- ---------- 7.8/10.7 MB 2.0 MB/s eta 0:00:02\n",
      "   ----------------------------- ---------- 7.9/10.7 MB 2.0 MB/s eta 0:00:02\n",
      "   ----------------------------- ---------- 7.9/10.7 MB 2.0 MB/s eta 0:00:02\n",
      "   ----------------------------- ---------- 8.0/10.7 MB 2.0 MB/s eta 0:00:02\n",
      "   ----------------------------- ---------- 8.0/10.7 MB 2.0 MB/s eta 0:00:02\n",
      "   ------------------------------ --------- 8.1/10.7 MB 1.9 MB/s eta 0:00:02\n",
      "   ------------------------------ --------- 8.1/10.7 MB 1.9 MB/s eta 0:00:02\n",
      "   ------------------------------ --------- 8.2/10.7 MB 1.9 MB/s eta 0:00:02\n",
      "   ------------------------------ --------- 8.2/10.7 MB 1.9 MB/s eta 0:00:02\n",
      "   ------------------------------ --------- 8.3/10.7 MB 1.9 MB/s eta 0:00:02\n",
      "   ------------------------------ --------- 8.3/10.7 MB 1.9 MB/s eta 0:00:02\n",
      "   ------------------------------- -------- 8.3/10.7 MB 1.9 MB/s eta 0:00:02\n",
      "   ------------------------------- -------- 8.4/10.7 MB 1.9 MB/s eta 0:00:02\n",
      "   ------------------------------- -------- 8.4/10.7 MB 1.9 MB/s eta 0:00:02\n",
      "   ------------------------------- -------- 8.5/10.7 MB 1.8 MB/s eta 0:00:02\n",
      "   -------------------------------- ------- 8.7/10.7 MB 1.8 MB/s eta 0:00:02\n",
      "   -------------------------------- ------- 8.7/10.7 MB 1.8 MB/s eta 0:00:02\n",
      "   -------------------------------- ------- 8.8/10.7 MB 1.8 MB/s eta 0:00:02\n",
      "   -------------------------------- ------- 8.8/10.7 MB 1.8 MB/s eta 0:00:02\n",
      "   --------------------------------- ------ 8.9/10.7 MB 1.8 MB/s eta 0:00:01\n",
      "   --------------------------------- ------ 9.0/10.7 MB 1.8 MB/s eta 0:00:01\n",
      "   ---------------------------------- ----- 9.1/10.7 MB 1.8 MB/s eta 0:00:01\n",
      "   ---------------------------------- ----- 9.2/10.7 MB 1.8 MB/s eta 0:00:01\n",
      "   ---------------------------------- ----- 9.3/10.7 MB 1.8 MB/s eta 0:00:01\n",
      "   ----------------------------------- ---- 9.4/10.7 MB 1.8 MB/s eta 0:00:01\n",
      "   ----------------------------------- ---- 9.6/10.7 MB 1.9 MB/s eta 0:00:01\n",
      "   ------------------------------------ --- 9.7/10.7 MB 1.9 MB/s eta 0:00:01\n",
      "   ------------------------------------ --- 9.8/10.7 MB 1.9 MB/s eta 0:00:01\n",
      "   ------------------------------------ --- 9.9/10.7 MB 1.9 MB/s eta 0:00:01\n",
      "   ------------------------------------- -- 10.0/10.7 MB 1.9 MB/s eta 0:00:01\n",
      "   ------------------------------------- -- 10.0/10.7 MB 1.9 MB/s eta 0:00:01\n",
      "   ------------------------------------- -- 10.1/10.7 MB 1.9 MB/s eta 0:00:01\n",
      "   -------------------------------------- - 10.2/10.7 MB 1.9 MB/s eta 0:00:01\n",
      "   -------------------------------------- - 10.2/10.7 MB 1.9 MB/s eta 0:00:01\n",
      "   -------------------------------------- - 10.4/10.7 MB 1.9 MB/s eta 0:00:01\n",
      "   ---------------------------------------  10.5/10.7 MB 1.9 MB/s eta 0:00:01\n",
      "   ---------------------------------------  10.6/10.7 MB 1.8 MB/s eta 0:00:01\n",
      "   ---------------------------------------  10.7/10.7 MB 1.9 MB/s eta 0:00:01\n",
      "   ---------------------------------------- 10.7/10.7 MB 1.8 MB/s eta 0:00:00\n",
      "Downloading pytz-2023.3.post1-py2.py3-none-any.whl (502 kB)\n",
      "   ---------------------------------------- 0.0/502.5 kB ? eta -:--:--\n",
      "   -- ------------------------------------- 30.7/502.5 kB 1.3 MB/s eta 0:00:01\n",
      "   ----------- ---------------------------- 143.4/502.5 kB 1.7 MB/s eta 0:00:01\n",
      "   ---------------------- ----------------- 276.5/502.5 kB 2.1 MB/s eta 0:00:01\n",
      "   ------------------------- -------------- 317.4/502.5 kB 2.0 MB/s eta 0:00:01\n",
      "   ------------------------- -------------- 317.4/502.5 kB 2.0 MB/s eta 0:00:01\n",
      "   ----------------------------- ---------- 368.6/502.5 kB 1.3 MB/s eta 0:00:01\n",
      "   -------------------------------------- - 481.3/502.5 kB 1.5 MB/s eta 0:00:01\n",
      "   ---------------------------------------- 502.5/502.5 kB 1.5 MB/s eta 0:00:00\n",
      "Installing collected packages: pytz, tzdata, pandas\n",
      "Successfully installed pandas-2.1.2 pytz-2023.3.post1 tzdata-2023.3\n"
     ]
    }
   ],
   "source": [
    "!pip install pandas"
   ]
  },
  {
   "cell_type": "code",
   "execution_count": 9,
   "id": "230c7615-29b1-44a1-a42b-31e192fed520",
   "metadata": {},
   "outputs": [
    {
     "name": "stdout",
     "output_type": "stream",
     "text": [
      "Collecting seaborn\n",
      "  Downloading seaborn-0.13.0-py3-none-any.whl.metadata (5.3 kB)\n",
      "Requirement already satisfied: numpy!=1.24.0,>=1.20 in c:\\users\\rodri\\onedrive\\imágenes\\documentos\\infotec\\segundo trimestre\\aprendizaje computacional\\unidad 10 (ensambles)\\myenv\\lib\\site-packages (from seaborn) (1.26.1)\n",
      "Requirement already satisfied: pandas>=1.2 in c:\\users\\rodri\\onedrive\\imágenes\\documentos\\infotec\\segundo trimestre\\aprendizaje computacional\\unidad 10 (ensambles)\\myenv\\lib\\site-packages (from seaborn) (2.1.2)\n",
      "Requirement already satisfied: matplotlib!=3.6.1,>=3.3 in c:\\users\\rodri\\onedrive\\imágenes\\documentos\\infotec\\segundo trimestre\\aprendizaje computacional\\unidad 10 (ensambles)\\myenv\\lib\\site-packages (from seaborn) (3.8.1)\n",
      "Requirement already satisfied: contourpy>=1.0.1 in c:\\users\\rodri\\onedrive\\imágenes\\documentos\\infotec\\segundo trimestre\\aprendizaje computacional\\unidad 10 (ensambles)\\myenv\\lib\\site-packages (from matplotlib!=3.6.1,>=3.3->seaborn) (1.2.0)\n",
      "Requirement already satisfied: cycler>=0.10 in c:\\users\\rodri\\onedrive\\imágenes\\documentos\\infotec\\segundo trimestre\\aprendizaje computacional\\unidad 10 (ensambles)\\myenv\\lib\\site-packages (from matplotlib!=3.6.1,>=3.3->seaborn) (0.12.1)\n",
      "Requirement already satisfied: fonttools>=4.22.0 in c:\\users\\rodri\\onedrive\\imágenes\\documentos\\infotec\\segundo trimestre\\aprendizaje computacional\\unidad 10 (ensambles)\\myenv\\lib\\site-packages (from matplotlib!=3.6.1,>=3.3->seaborn) (4.44.0)\n",
      "Requirement already satisfied: kiwisolver>=1.3.1 in c:\\users\\rodri\\onedrive\\imágenes\\documentos\\infotec\\segundo trimestre\\aprendizaje computacional\\unidad 10 (ensambles)\\myenv\\lib\\site-packages (from matplotlib!=3.6.1,>=3.3->seaborn) (1.4.5)\n",
      "Requirement already satisfied: packaging>=20.0 in c:\\users\\rodri\\onedrive\\imágenes\\documentos\\infotec\\segundo trimestre\\aprendizaje computacional\\unidad 10 (ensambles)\\myenv\\lib\\site-packages (from matplotlib!=3.6.1,>=3.3->seaborn) (23.2)\n",
      "Requirement already satisfied: pillow>=8 in c:\\users\\rodri\\onedrive\\imágenes\\documentos\\infotec\\segundo trimestre\\aprendizaje computacional\\unidad 10 (ensambles)\\myenv\\lib\\site-packages (from matplotlib!=3.6.1,>=3.3->seaborn) (10.1.0)\n",
      "Requirement already satisfied: pyparsing>=2.3.1 in c:\\users\\rodri\\onedrive\\imágenes\\documentos\\infotec\\segundo trimestre\\aprendizaje computacional\\unidad 10 (ensambles)\\myenv\\lib\\site-packages (from matplotlib!=3.6.1,>=3.3->seaborn) (3.1.1)\n",
      "Requirement already satisfied: python-dateutil>=2.7 in c:\\users\\rodri\\onedrive\\imágenes\\documentos\\infotec\\segundo trimestre\\aprendizaje computacional\\unidad 10 (ensambles)\\myenv\\lib\\site-packages (from matplotlib!=3.6.1,>=3.3->seaborn) (2.8.2)\n",
      "Requirement already satisfied: pytz>=2020.1 in c:\\users\\rodri\\onedrive\\imágenes\\documentos\\infotec\\segundo trimestre\\aprendizaje computacional\\unidad 10 (ensambles)\\myenv\\lib\\site-packages (from pandas>=1.2->seaborn) (2023.3.post1)\n",
      "Requirement already satisfied: tzdata>=2022.1 in c:\\users\\rodri\\onedrive\\imágenes\\documentos\\infotec\\segundo trimestre\\aprendizaje computacional\\unidad 10 (ensambles)\\myenv\\lib\\site-packages (from pandas>=1.2->seaborn) (2023.3)\n",
      "Requirement already satisfied: six>=1.5 in c:\\users\\rodri\\onedrive\\imágenes\\documentos\\infotec\\segundo trimestre\\aprendizaje computacional\\unidad 10 (ensambles)\\myenv\\lib\\site-packages (from python-dateutil>=2.7->matplotlib!=3.6.1,>=3.3->seaborn) (1.16.0)\n",
      "Downloading seaborn-0.13.0-py3-none-any.whl (294 kB)\n",
      "   ---------------------------------------- 0.0/294.6 kB ? eta -:--:--\n",
      "   ---- ----------------------------------- 30.7/294.6 kB 1.3 MB/s eta 0:00:01\n",
      "   --------------- ------------------------ 112.6/294.6 kB 1.7 MB/s eta 0:00:01\n",
      "   --------------------------- ------------ 204.8/294.6 kB 1.6 MB/s eta 0:00:01\n",
      "   ------------------------------ --------- 225.3/294.6 kB 1.7 MB/s eta 0:00:01\n",
      "   ---------------------------------------- 294.6/294.6 kB 1.4 MB/s eta 0:00:00\n",
      "Installing collected packages: seaborn\n",
      "Successfully installed seaborn-0.13.0\n"
     ]
    }
   ],
   "source": [
    "!pip install seaborn"
   ]
  },
  {
   "cell_type": "code",
   "execution_count": 1,
   "id": "94ea31c4-00fc-429c-b368-91f7a683dc0f",
   "metadata": {},
   "outputs": [],
   "source": [
    "# Dependencies\n",
    "from scipy.stats import binom\n",
    "from sklearn.datasets import load_diabetes, load_digits\n",
    "from sklearn.model_selection import train_test_split\n",
    "from sklearn.svm import LinearSVC, LinearSVR, SVR\n",
    "from sklearn.tree import DecisionTreeClassifier, DecisionTreeRegressor\n",
    "from sklearn.ensemble import BaggingRegressor\n",
    "from sklearn.neighbors import KNeighborsRegressor\n",
    "from sklearn.metrics import recall_score, mean_absolute_percentage_error\n",
    "from collections import Counter\n",
    "from matplotlib import pylab as plt\n",
    "import numpy as np\n",
    "import pandas as pd\n",
    "import seaborn as sns"
   ]
  },
  {
   "cell_type": "code",
   "execution_count": 2,
   "id": "92e82765-620e-4d43-a7b7-67b071b9b569",
   "metadata": {},
   "outputs": [
    {
     "data": {
      "image/png": "[encoded data removed]",
      "text/plain": [
       "<Figure size 500x500 with 1 Axes>"
      ]
     },
     "metadata": {},
     "output_type": "display_data"
    }
   ],
   "source": [
    "N = range(3, 10002, 2)\n",
    "cdf_c = [1 - binom.cdf(np.floor(n / 2), n, 0.60) for n in N]\n",
    "df = pd.DataFrame(dict(accuracy=cdf_c, ensamble=N))\n",
    "_ = sns.relplot(data=df, x='ensamble', y='accuracy', kind='line')"
   ]
  },
  {
   "cell_type": "code",
   "execution_count": 3,
   "id": "937b3e91-4cea-416d-936e-8f3ff7fa05a7",
   "metadata": {},
   "outputs": [
    {
     "data": {
      "text/plain": [
       "range(3, 10002, 2)"
      ]
     },
     "execution_count": 3,
     "metadata": {},
     "output_type": "execute_result"
    }
   ],
   "source": [
    "N"
   ]
  },
  {
   "cell_type": "code",
   "execution_count": 4,
   "id": "e1849419-0b59-4ceb-8b21-74e100cd79e6",
   "metadata": {},
   "outputs": [
    {
     "data": {
      "text/plain": [
       "5000"
      ]
     },
     "execution_count": 4,
     "metadata": {},
     "output_type": "execute_result"
    }
   ],
   "source": [
    "len(cdf_c)"
   ]
  },
  {
   "cell_type": "code",
   "execution_count": 5,
   "id": "c6bc50dd-fdf4-4d37-8117-2cc4c905fb22",
   "metadata": {},
   "outputs": [
    {
     "data": {
      "text/html": [
       "<div>\n",
       "<style scoped>\n",
       "    .dataframe tbody tr th:only-of-type {\n",
       "        vertical-align: middle;\n",
       "    }\n",
       "\n",
       "    .dataframe tbody tr th {\n",
       "        vertical-align: top;\n",
       "    }\n",
       "\n",
       "    .dataframe thead th {\n",
       "        text-align: right;\n",
       "    }\n",
       "</style>\n",
       "<table border=\"1\" class=\"dataframe\">\n",
       "  <thead>\n",
       "    <tr style=\"text-align: right;\">\n",
       "      <th></th>\n",
       "      <th>accuracy</th>\n",
       "      <th>ensamble</th>\n",
       "    </tr>\n",
       "  </thead>\n",
       "  <tbody>\n",
       "    <tr>\n",
       "      <th>0</th>\n",
       "      <td>0.648000</td>\n",
       "      <td>3</td>\n",
       "    </tr>\n",
       "    <tr>\n",
       "      <th>1</th>\n",
       "      <td>0.682560</td>\n",
       "      <td>5</td>\n",
       "    </tr>\n",
       "    <tr>\n",
       "      <th>2</th>\n",
       "      <td>0.710208</td>\n",
       "      <td>7</td>\n",
       "    </tr>\n",
       "    <tr>\n",
       "      <th>3</th>\n",
       "      <td>0.733432</td>\n",
       "      <td>9</td>\n",
       "    </tr>\n",
       "    <tr>\n",
       "      <th>4</th>\n",
       "      <td>0.753498</td>\n",
       "      <td>11</td>\n",
       "    </tr>\n",
       "    <tr>\n",
       "      <th>...</th>\n",
       "      <td>...</td>\n",
       "      <td>...</td>\n",
       "    </tr>\n",
       "    <tr>\n",
       "      <th>4995</th>\n",
       "      <td>1.000000</td>\n",
       "      <td>9993</td>\n",
       "    </tr>\n",
       "    <tr>\n",
       "      <th>4996</th>\n",
       "      <td>1.000000</td>\n",
       "      <td>9995</td>\n",
       "    </tr>\n",
       "    <tr>\n",
       "      <th>4997</th>\n",
       "      <td>1.000000</td>\n",
       "      <td>9997</td>\n",
       "    </tr>\n",
       "    <tr>\n",
       "      <th>4998</th>\n",
       "      <td>1.000000</td>\n",
       "      <td>9999</td>\n",
       "    </tr>\n",
       "    <tr>\n",
       "      <th>4999</th>\n",
       "      <td>1.000000</td>\n",
       "      <td>10001</td>\n",
       "    </tr>\n",
       "  </tbody>\n",
       "</table>\n",
       "<p>5000 rows × 2 columns</p>\n",
       "</div>"
      ],
      "text/plain": [
       "      accuracy  ensamble\n",
       "0     0.648000         3\n",
       "1     0.682560         5\n",
       "2     0.710208         7\n",
       "3     0.733432         9\n",
       "4     0.753498        11\n",
       "...        ...       ...\n",
       "4995  1.000000      9993\n",
       "4996  1.000000      9995\n",
       "4997  1.000000      9997\n",
       "4998  1.000000      9999\n",
       "4999  1.000000     10001\n",
       "\n",
       "[5000 rows x 2 columns]"
      ]
     },
     "execution_count": 5,
     "metadata": {},
     "output_type": "execute_result"
    }
   ],
   "source": [
    "df"
   ]
  },
  {
   "cell_type": "markdown",
   "id": "f2fdb22c-d1c8-42ee-a6f1-3eeb7524c2b4",
   "metadata": {},
   "source": [
    "## Bagging (Bootstrap aggregation)"
   ]
  },
  {
   "cell_type": "markdown",
   "id": "6cc896c7-cb04-4f60-b7cb-2ea53b0d2918",
   "metadata": {},
   "source": [
    "Combinar M instancias idenpendientes de un tipo de algoritmo. \n",
    "Genera M instancias del algortimo y la combinación se realiza mediante votación o el promedio en caso de regresión. O en su caso que se cuente con la probabilidad de cada clase."
   ]
  },
  {
   "cell_type": "markdown",
   "id": "81363a52-fb30-4267-bdf6-0bce12232867",
   "metadata": {},
   "source": [
    "## Ejemplo: Digitos"
   ]
  },
  {
   "cell_type": "code",
   "execution_count": 6,
   "id": "ac9c3d90-c220-4700-97c8-18a91d280129",
   "metadata": {},
   "outputs": [],
   "source": [
    "X, y = load_digits(return_X_y=True)\n",
    "T, G, y_t, y_g = train_test_split(X, y,\n",
    "                                  test_size=0.2,\n",
    "                                  random_state=0)"
   ]
  },
  {
   "cell_type": "code",
   "execution_count": 7,
   "id": "7d7adaa4-7498-42c3-bde2-7efd16ed6507",
   "metadata": {},
   "outputs": [
    {
     "data": {
      "text/plain": [
       "array([0, 1, 2, 3, 4, 5, 6, 7, 8, 9])"
      ]
     },
     "execution_count": 7,
     "metadata": {},
     "output_type": "execute_result"
    }
   ],
   "source": [
    "np.unique(y) # 10 clases"
   ]
  },
  {
   "cell_type": "code",
   "execution_count": 8,
   "id": "0784089f-48f4-4bbc-8d93-f20f0eba2cdb",
   "metadata": {},
   "outputs": [
    {
     "data": {
      "text/plain": [
       "(1797, 64)"
      ]
     },
     "execution_count": 8,
     "metadata": {},
     "output_type": "execute_result"
    }
   ],
   "source": [
    "X.shape"
   ]
  },
  {
   "cell_type": "code",
   "execution_count": 9,
   "id": "91d0f9ab-3800-4e70-a9b5-20ef7d906bcf",
   "metadata": {},
   "outputs": [
    {
     "data": {
      "text/plain": [
       "(1797,)"
      ]
     },
     "execution_count": 9,
     "metadata": {},
     "output_type": "execute_result"
    }
   ],
   "source": [
    "y.shape"
   ]
  },
  {
   "cell_type": "code",
   "execution_count": 10,
   "id": "ef1edf3d-9e23-428b-b6ac-ae51933fbe4b",
   "metadata": {},
   "outputs": [
    {
     "data": {
      "text/plain": [
       "array([ 0.,  1.,  2.,  3.,  4.,  5.,  6.,  7.,  8.,  9., 10., 11., 12.,\n",
       "       13., 14., 15., 16.])"
      ]
     },
     "execution_count": 10,
     "metadata": {},
     "output_type": "execute_result"
    }
   ],
   "source": [
    "np.unique(X)"
   ]
  },
  {
   "cell_type": "markdown",
   "id": "9b12e6d3-d43e-40e0-88d0-c60867bde770",
   "metadata": {},
   "source": [
    "Los algoritmos a utilizarán de base son Máquinas de Soporte Vectorial y Árboles de decisión.\n",
    "\n",
    "Paso 1: Se entrena una instancia de estos algortimos para poder comparar su rendimiento para poder comparar su rendimiento en el conjunto de prueba contra a Bagging.\n",
    "\n",
    "La siguientes instrucciones entrenan una máquina de soporte vectorial, calculando en la segunda línea el macro-recall. El rendimiento se presenta en una tabla para facilitar la comparación."
   ]
  },
  {
   "cell_type": "code",
   "execution_count": 11,
   "id": "23f3d4e6-3603-4823-8148-151ce1dcd5ee",
   "metadata": {},
   "outputs": [],
   "source": [
    "svc = LinearSVC(dual=False).fit(T, y_t) # Dado que tenemos n_muestras > n_features (utilizar optimización directa en lugar de lagrangeano es más rápida)\n",
    "svc_recall = recall_score(y_g, svc.predict(G),\n",
    "                          average=\"macro\")"
   ]
  },
  {
   "cell_type": "code",
   "execution_count": 12,
   "id": "55a8f9aa-5944-4826-95bf-faf938f0c2bb",
   "metadata": {},
   "outputs": [
    {
     "data": {
      "text/plain": [
       "0.9449859016322432"
      ]
     },
     "execution_count": 12,
     "metadata": {},
     "output_type": "execute_result"
    }
   ],
   "source": [
    "svc_recall"
   ]
  },
  {
   "cell_type": "code",
   "execution_count": 13,
   "id": "0f075483-ed35-419f-bcb7-53da9de90ebd",
   "metadata": {},
   "outputs": [
    {
     "data": {
      "text/html": [
       "<style>#sk-container-id-1 {color: black;}#sk-container-id-1 pre{padding: 0;}#sk-container-id-1 div.sk-toggleable {background-color: white;}#sk-container-id-1 label.sk-toggleable__label {cursor: pointer;display: block;width: 100%;margin-bottom: 0;padding: 0.3em;box-sizing: border-box;text-align: center;}#sk-container-id-1 label.sk-toggleable__label-arrow:before {content: \"▸\";float: left;margin-right: 0.25em;color: #696969;}#sk-container-id-1 label.sk-toggleable__label-arrow:hover:before {color: black;}#sk-container-id-1 div.sk-estimator:hover label.sk-toggleable__label-arrow:before {color: black;}#sk-container-id-1 div.sk-toggleable__content {max-height: 0;max-width: 0;overflow: hidden;text-align: left;background-color: #f0f8ff;}#sk-container-id-1 div.sk-toggleable__content pre {margin: 0.2em;color: black;border-radius: 0.25em;background-color: #f0f8ff;}#sk-container-id-1 input.sk-toggleable__control:checked~div.sk-toggleable__content {max-height: 200px;max-width: 100%;overflow: auto;}#sk-container-id-1 input.sk-toggleable__control:checked~label.sk-toggleable__label-arrow:before {content: \"▾\";}#sk-container-id-1 div.sk-estimator input.sk-toggleable__control:checked~label.sk-toggleable__label {background-color: #d4ebff;}#sk-container-id-1 div.sk-label input.sk-toggleable__control:checked~label.sk-toggleable__label {background-color: #d4ebff;}#sk-container-id-1 input.sk-hidden--visually {border: 0;clip: rect(1px 1px 1px 1px);clip: rect(1px, 1px, 1px, 1px);height: 1px;margin: -1px;overflow: hidden;padding: 0;position: absolute;width: 1px;}#sk-container-id-1 div.sk-estimator {font-family: monospace;background-color: #f0f8ff;border: 1px dotted black;border-radius: 0.25em;box-sizing: border-box;margin-bottom: 0.5em;}#sk-container-id-1 div.sk-estimator:hover {background-color: #d4ebff;}#sk-container-id-1 div.sk-parallel-item::after {content: \"\";width: 100%;border-bottom: 1px solid gray;flex-grow: 1;}#sk-container-id-1 div.sk-label:hover label.sk-toggleable__label {background-color: #d4ebff;}#sk-container-id-1 div.sk-serial::before {content: \"\";position: absolute;border-left: 1px solid gray;box-sizing: border-box;top: 0;bottom: 0;left: 50%;z-index: 0;}#sk-container-id-1 div.sk-serial {display: flex;flex-direction: column;align-items: center;background-color: white;padding-right: 0.2em;padding-left: 0.2em;position: relative;}#sk-container-id-1 div.sk-item {position: relative;z-index: 1;}#sk-container-id-1 div.sk-parallel {display: flex;align-items: stretch;justify-content: center;background-color: white;position: relative;}#sk-container-id-1 div.sk-item::before, #sk-container-id-1 div.sk-parallel-item::before {content: \"\";position: absolute;border-left: 1px solid gray;box-sizing: border-box;top: 0;bottom: 0;left: 50%;z-index: -1;}#sk-container-id-1 div.sk-parallel-item {display: flex;flex-direction: column;z-index: 1;position: relative;background-color: white;}#sk-container-id-1 div.sk-parallel-item:first-child::after {align-self: flex-end;width: 50%;}#sk-container-id-1 div.sk-parallel-item:last-child::after {align-self: flex-start;width: 50%;}#sk-container-id-1 div.sk-parallel-item:only-child::after {width: 0;}#sk-container-id-1 div.sk-dashed-wrapped {border: 1px dashed gray;margin: 0 0.4em 0.5em 0.4em;box-sizing: border-box;padding-bottom: 0.4em;background-color: white;}#sk-container-id-1 div.sk-label label {font-family: monospace;font-weight: bold;display: inline-block;line-height: 1.2em;}#sk-container-id-1 div.sk-label-container {text-align: center;}#sk-container-id-1 div.sk-container {/* jupyter's `normalize.less` sets `[hidden] { display: none; }` but bootstrap.min.css set `[hidden] { display: none !important; }` so we also need the `!important` here to be able to override the default hidden behavior on the sphinx rendered scikit-learn.org. See: https://github.com/scikit-learn/scikit-learn/issues/21755 */display: inline-block !important;position: relative;}#sk-container-id-1 div.sk-text-repr-fallback {display: none;}</style><div id=\"sk-container-id-1\" class=\"sk-top-container\"><div class=\"sk-text-repr-fallback\"><pre>LinearSVC(dual=False)</pre><b>In a Jupyter environment, please rerun this cell to show the HTML representation or trust the notebook. <br />On GitHub, the HTML representation is unable to render, please try loading this page with nbviewer.org.</b></div><div class=\"sk-container\" hidden><div class=\"sk-item\"><div class=\"sk-estimator sk-toggleable\"><input class=\"sk-toggleable__control sk-hidden--visually\" id=\"sk-estimator-id-1\" type=\"checkbox\" checked><label for=\"sk-estimator-id-1\" class=\"sk-toggleable__label sk-toggleable__label-arrow\">LinearSVC</label><div class=\"sk-toggleable__content\"><pre>LinearSVC(dual=False)</pre></div></div></div></div></div>"
      ],
      "text/plain": [
       "LinearSVC(dual=False)"
      ]
     },
     "execution_count": 13,
     "metadata": {},
     "output_type": "execute_result"
    }
   ],
   "source": [
    "svc"
   ]
  },
  {
   "cell_type": "markdown",
   "id": "96b35b79-5e61-428f-9e22-471c18c862d7",
   "metadata": {},
   "source": [
    "### Árbol de decisión con el criterio de entropía central"
   ]
  },
  {
   "cell_type": "code",
   "execution_count": 14,
   "id": "ee1c6516-915d-445b-8521-4f53e48aee2f",
   "metadata": {},
   "outputs": [],
   "source": [
    "tree = DecisionTreeClassifier(criterion='entropy',\n",
    "                              min_samples_split=9).fit(T, y_t)\n",
    "tree_recall = recall_score(y_g, tree.predict(G),\n",
    "                           average=\"macro\")"
   ]
  },
  {
   "cell_type": "code",
   "execution_count": 15,
   "id": "383198c8-4ef3-4973-b84d-5f262afee2b8",
   "metadata": {},
   "outputs": [
    {
     "data": {
      "text/plain": [
       "0.828682010525997"
      ]
     },
     "execution_count": 15,
     "metadata": {},
     "output_type": "execute_result"
    }
   ],
   "source": [
    "tree_recall"
   ]
  },
  {
   "cell_type": "markdown",
   "id": "105c262b-9202-4125-9e84-5637d8e6ce4e",
   "metadata": {},
   "source": [
    "El algoritmo de Bootstrap inicia generando las muestras con remplazo tal y como se realiza a continuación en el ejemplo del error estándar de la media; el siguiente código genera las muestras, en particular el ensamble sería de  elementos."
   ]
  },
  {
   "cell_type": "markdown",
   "id": "f7a687f7-c1f8-44c9-adba-d46dbad7fcd9",
   "metadata": {},
   "source": [
    "#### Ejemplo desviación de la mediana (Bootstrap)"
   ]
  },
  {
   "cell_type": "code",
   "execution_count": 16,
   "id": "38b2c569-177f-4067-a9b9-6669f067cbc9",
   "metadata": {},
   "outputs": [],
   "source": [
    "from scipy.stats import norm\n"
   ]
  },
  {
   "cell_type": "code",
   "execution_count": 17,
   "id": "2c521300-7513-4fb7-bcbd-f829ed599d6b",
   "metadata": {},
   "outputs": [],
   "source": [
    "p1 = norm(loc=1, scale=2)\n"
   ]
  },
  {
   "cell_type": "code",
   "execution_count": 18,
   "id": "6f8ccbd2-4080-498f-8cac-9247398fb816",
   "metadata": {},
   "outputs": [],
   "source": [
    "D = p1.rvs(size=(500, 1000))\n",
    "mu = [x.mean() for x in D]"
   ]
  },
  {
   "cell_type": "code",
   "execution_count": 19,
   "id": "1ba6b03b-be88-4cd1-af49-ee69a0e9b541",
   "metadata": {},
   "outputs": [],
   "source": [
    "D_mediana = D[0]"
   ]
  },
  {
   "cell_type": "code",
   "execution_count": 20,
   "id": "f9889e49-a356-46e2-a3f0-164ea4c5a7cf",
   "metadata": {},
   "outputs": [],
   "source": [
    "se = np.std(mu)"
   ]
  },
  {
   "cell_type": "code",
   "execution_count": 21,
   "id": "54e4e032-7ef7-481c-984b-d04028542e0a",
   "metadata": {},
   "outputs": [
    {
     "data": {
      "image/png": "[encoded data removed]",
      "text/plain": [
       "<Figure size 640x480 with 1 Axes>"
      ]
     },
     "metadata": {},
     "output_type": "display_data"
    }
   ],
   "source": [
    "fig = sns.histplot(mu)"
   ]
  },
  {
   "cell_type": "code",
   "execution_count": 22,
   "id": "4ed17380-d309-4773-8f75-9f7e6ccf0ece",
   "metadata": {},
   "outputs": [],
   "source": [
    "D_mediana = D[0]\n"
   ]
  },
  {
   "cell_type": "code",
   "execution_count": 23,
   "id": "a2aaa697-ed96-48a3-8727-8bff905733d5",
   "metadata": {},
   "outputs": [],
   "source": [
    "S = np.random.randint(D_mediana.shape[0],\n",
    "                      size=(500, D_mediana.shape[0]))\n",
    "B = [np.median(D_mediana[s]) for s in S]\n",
    "se = np.std(B)"
   ]
  },
  {
   "cell_type": "code",
   "execution_count": 24,
   "id": "f51fb620-5163-44d7-94d1-7caa6bca2601",
   "metadata": {},
   "outputs": [
    {
     "data": {
      "image/png": "[encoded data removed]",
      "text/plain": [
       "<Figure size 640x480 with 1 Axes>"
      ]
     },
     "metadata": {},
     "output_type": "display_data"
    }
   ],
   "source": [
    "df = pd.DataFrame(dict(Bootstrap=B, \n",
    "                       Muestra=[np.median(x) for x in D]))\n",
    "fig = sns.histplot(df)                       "
   ]
  },
  {
   "cell_type": "markdown",
   "id": "797c8ba3-2fec-4bec-9884-ef68067ff191",
   "metadata": {},
   "source": [
    "# Ahora apliquemos la misma técnica \n",
    "Se generarán las muestras con reemplazo basadas en el conjunto de entrenamiento con tamaño de muestra M = 11."
   ]
  },
  {
   "cell_type": "code",
   "execution_count": 25,
   "id": "7a52d581-f341-43cc-a490-082bee0134ce",
   "metadata": {},
   "outputs": [],
   "source": [
    "# 11 muestras con reemplazo\n",
    "B = np.random.randint(T.shape[0],\n",
    "                      size=(11, T.shape[0]))"
   ]
  },
  {
   "cell_type": "code",
   "execution_count": 26,
   "id": "737e888a-9a8f-49bd-905c-36b5e6ce1f91",
   "metadata": {},
   "outputs": [
    {
     "data": {
      "text/plain": [
       "(11, 1437)"
      ]
     },
     "execution_count": 26,
     "metadata": {},
     "output_type": "execute_result"
    }
   ],
   "source": [
    "B.shape"
   ]
  },
  {
   "cell_type": "code",
   "execution_count": 27,
   "id": "9a2bb46f-0e4b-4ef4-b66e-72ec73b6ac5a",
   "metadata": {},
   "outputs": [
    {
     "data": {
      "text/html": [
       "<div>\n",
       "<style scoped>\n",
       "    .dataframe tbody tr th:only-of-type {\n",
       "        vertical-align: middle;\n",
       "    }\n",
       "\n",
       "    .dataframe tbody tr th {\n",
       "        vertical-align: top;\n",
       "    }\n",
       "\n",
       "    .dataframe thead th {\n",
       "        text-align: right;\n",
       "    }\n",
       "</style>\n",
       "<table border=\"1\" class=\"dataframe\">\n",
       "  <thead>\n",
       "    <tr style=\"text-align: right;\">\n",
       "      <th></th>\n",
       "      <th>Bootstrap</th>\n",
       "      <th>Muestra</th>\n",
       "    </tr>\n",
       "  </thead>\n",
       "  <tbody>\n",
       "    <tr>\n",
       "      <th>0</th>\n",
       "      <td>0.851104</td>\n",
       "      <td>0.874930</td>\n",
       "    </tr>\n",
       "    <tr>\n",
       "      <th>1</th>\n",
       "      <td>0.914877</td>\n",
       "      <td>1.062366</td>\n",
       "    </tr>\n",
       "    <tr>\n",
       "      <th>2</th>\n",
       "      <td>0.900200</td>\n",
       "      <td>0.974988</td>\n",
       "    </tr>\n",
       "    <tr>\n",
       "      <th>3</th>\n",
       "      <td>0.814735</td>\n",
       "      <td>0.966648</td>\n",
       "    </tr>\n",
       "    <tr>\n",
       "      <th>4</th>\n",
       "      <td>0.953808</td>\n",
       "      <td>0.855135</td>\n",
       "    </tr>\n",
       "    <tr>\n",
       "      <th>...</th>\n",
       "      <td>...</td>\n",
       "      <td>...</td>\n",
       "    </tr>\n",
       "    <tr>\n",
       "      <th>495</th>\n",
       "      <td>0.955894</td>\n",
       "      <td>0.885030</td>\n",
       "    </tr>\n",
       "    <tr>\n",
       "      <th>496</th>\n",
       "      <td>0.885288</td>\n",
       "      <td>0.964345</td>\n",
       "    </tr>\n",
       "    <tr>\n",
       "      <th>497</th>\n",
       "      <td>0.878304</td>\n",
       "      <td>1.076302</td>\n",
       "    </tr>\n",
       "    <tr>\n",
       "      <th>498</th>\n",
       "      <td>0.920411</td>\n",
       "      <td>1.074782</td>\n",
       "    </tr>\n",
       "    <tr>\n",
       "      <th>499</th>\n",
       "      <td>0.910636</td>\n",
       "      <td>0.975198</td>\n",
       "    </tr>\n",
       "  </tbody>\n",
       "</table>\n",
       "<p>500 rows × 2 columns</p>\n",
       "</div>"
      ],
      "text/plain": [
       "     Bootstrap   Muestra\n",
       "0     0.851104  0.874930\n",
       "1     0.914877  1.062366\n",
       "2     0.900200  0.974988\n",
       "3     0.814735  0.966648\n",
       "4     0.953808  0.855135\n",
       "..         ...       ...\n",
       "495   0.955894  0.885030\n",
       "496   0.885288  0.964345\n",
       "497   0.878304  1.076302\n",
       "498   0.920411  1.074782\n",
       "499   0.910636  0.975198\n",
       "\n",
       "[500 rows x 2 columns]"
      ]
     },
     "execution_count": 27,
     "metadata": {},
     "output_type": "execute_result"
    }
   ],
   "source": [
    "df"
   ]
  },
  {
   "cell_type": "code",
   "execution_count": 28,
   "id": "48528356-6645-4f11-9f31-278a0b5df82f",
   "metadata": {},
   "outputs": [
    {
     "data": {
      "image/png": "[encoded data removed]",
      "text/plain": [
       "<Figure size 640x480 with 1 Axes>"
      ]
     },
     "metadata": {},
     "output_type": "display_data"
    }
   ],
   "source": [
    "fig = sns.histplot(df) "
   ]
  },
  {
   "cell_type": "markdown",
   "id": "2e489ca7-d398-40ee-879a-d75aab3b45b8",
   "metadata": {},
   "source": [
    "Empezando con Bagging usando como clasificador base la Máquina de Soporte Vectorial Lineal. La primera línea de las siguientes instrucciones, entra los máquinas de soporte, después se realizan las predicciones. En la tercera línea se calcula la clase que tuvo la mayor cantidad de votos y finalmente se calcula el error en términos de macro-recall."
   ]
  },
  {
   "cell_type": "code",
   "execution_count": 29,
   "id": "fc9c74a7-17a9-47f5-b9ee-37078679e236",
   "metadata": {},
   "outputs": [],
   "source": [
    "# Se calcula una máquina de soporte vectorial para cada una de las 11 muestras\n",
    "svc_ins = [LinearSVC(dual=False).fit(T[b], y_t[b])\n",
    "           for b in B]\n",
    "\n",
    "# Predicciones para cada máquina de soporte vectorial\n",
    "hys = np.array([m.predict(G) for m in svc_ins])\n",
    "\n",
    "# Cantidad de votos\n",
    "hy = np.array([Counter(x).most_common(n=1)[0][0]\n",
    "               for x in hys.T])\n",
    "#\n",
    "bsvc_recall = recall_score(y_g, hy, average=\"macro\")"
   ]
  },
  {
   "cell_type": "code",
   "execution_count": 30,
   "id": "b818abf2-cd29-4e6b-a40a-0e430cc76b7d",
   "metadata": {},
   "outputs": [
    {
     "data": {
      "text/plain": [
       "array([[2, 8, 2, 6, 6, 7, 1, 9, 8, 5, 2, 8, 6, 6, 6, 6, 1, 0, 5, 8, 8, 7,\n",
       "        8, 4, 7, 5, 4, 9, 2, 9, 4, 7, 6, 8, 9, 4, 3, 1, 0, 1, 8, 6, 7, 7,\n",
       "        9, 0, 7, 6, 2, 1, 9, 6, 7, 9, 0, 0, 1, 8, 6, 3, 0, 2, 3, 4, 1, 9,\n",
       "        2, 6, 9, 1, 8, 3, 5, 1, 2, 8, 2, 2, 9, 7, 1, 9, 6, 0, 5, 5, 7, 5,\n",
       "        1, 2, 9, 7, 3, 1, 1, 7, 4, 8, 5, 8, 5, 5, 2, 5, 8, 0, 7, 1, 4, 1,\n",
       "        3, 4, 8, 9, 7, 9, 8, 2, 6, 5, 2, 5, 8, 4, 6, 7, 0, 6, 1, 5, 5, 9,\n",
       "        9, 5, 9, 9, 5, 7, 5, 6, 2, 8, 6, 7, 6, 1, 5, 1, 5, 9, 8, 1, 5, 3,\n",
       "        6, 1, 8, 7, 7, 7, 6, 7, 6, 5, 6, 0, 8, 8, 9, 9, 6, 1, 0, 4, 1, 6,\n",
       "        3, 8, 6, 7, 4, 9, 6, 3, 0, 9, 3, 3, 0, 7, 7, 5, 7, 8, 0, 7, 1, 9,\n",
       "        6, 4, 5, 0, 1, 4, 6, 4, 3, 3, 0, 9, 5, 9, 2, 8, 4, 2, 1, 6, 9, 9,\n",
       "        9, 4, 9, 3, 7, 6, 2, 3, 3, 1, 6, 9, 3, 6, 3, 3, 2, 0, 7, 6, 1, 1,\n",
       "        9, 7, 2, 7, 8, 5, 5, 7, 5, 3, 3, 7, 2, 7, 5, 5, 7, 0, 9, 1, 6, 5,\n",
       "        9, 7, 4, 3, 8, 0, 3, 6, 4, 6, 3, 2, 6, 8, 8, 8, 4, 6, 7, 5, 2, 4,\n",
       "        5, 3, 2, 4, 6, 9, 4, 5, 4, 3, 4, 6, 2, 9, 0, 6, 7, 2, 0, 9, 6, 0,\n",
       "        4, 2, 0, 7, 5, 8, 5, 4, 8, 2, 8, 4, 3, 7, 2, 6, 9, 1, 5, 1, 0, 8,\n",
       "        2, 8, 9, 5, 6, 2, 2, 7, 2, 1, 5, 1, 6, 4, 5, 0, 9, 4, 1, 1, 7, 0,\n",
       "        8, 9, 0, 5, 4, 3, 3, 8]])"
      ]
     },
     "execution_count": 30,
     "metadata": {},
     "output_type": "execute_result"
    }
   ],
   "source": [
    "hys[[0]]"
   ]
  },
  {
   "cell_type": "code",
   "execution_count": 31,
   "id": "8427d65a-efd2-4b28-80ce-a5f4fed85aa8",
   "metadata": {},
   "outputs": [
    {
     "data": {
      "text/plain": [
       "[Counter({6: 46,\n",
       "          7: 41,\n",
       "          9: 41,\n",
       "          5: 41,\n",
       "          8: 37,\n",
       "          1: 35,\n",
       "          2: 33,\n",
       "          4: 30,\n",
       "          3: 29,\n",
       "          0: 27})]"
      ]
     },
     "execution_count": 31,
     "metadata": {},
     "output_type": "execute_result"
    }
   ],
   "source": [
    "counters = [Counter(inner_list) for inner_list in hys[[0]]]\n",
    "counters"
   ]
  },
  {
   "cell_type": "code",
   "execution_count": 32,
   "id": "eda6d17e-0bc4-4180-90ea-ee8d3e7bf4e0",
   "metadata": {},
   "outputs": [
    {
     "data": {
      "text/plain": [
       "0.9524723041186457"
      ]
     },
     "execution_count": 32,
     "metadata": {},
     "output_type": "execute_result"
    }
   ],
   "source": [
    "bsvc_recall"
   ]
  },
  {
   "cell_type": "code",
   "execution_count": 33,
   "id": "1690d4b3-4cfc-4b5d-8eaa-ed21d85a9455",
   "metadata": {},
   "outputs": [
    {
     "data": {
      "text/plain": [
       "(360,)"
      ]
     },
     "execution_count": 33,
     "metadata": {},
     "output_type": "execute_result"
    }
   ],
   "source": [
    "hy.shape"
   ]
  },
  {
   "cell_type": "markdown",
   "id": "a7e67a85-f410-4e47-8f8a-2959d5930aa9",
   "metadata": {},
   "source": [
    "### Aplicando los Árboles de Decisión"
   ]
  },
  {
   "cell_type": "code",
   "execution_count": 34,
   "id": "5468f41a-e824-4170-bd5d-c37dfa36fdf4",
   "metadata": {},
   "outputs": [],
   "source": [
    "tree_ins = [DecisionTreeClassifier(criterion='entropy',\n",
    "                                   min_samples_split=9).fit(T[b], y_t[b])\n",
    "            for b in B]\n",
    "hys = np.array([m.predict(G) for m in tree_ins])\n",
    "hy = np.array([Counter(x).most_common(n=1)[0][0]\n",
    "               for x in hys.T])\n",
    "btree_recall = recall_score(y_g, hy,\n",
    "                            average=\"macro\")"
   ]
  },
  {
   "cell_type": "code",
   "execution_count": 35,
   "id": "2ec43209-5099-4c18-8830-3899aa826ea4",
   "metadata": {},
   "outputs": [
    {
     "data": {
      "text/plain": [
       "0.9438436901851537"
      ]
     },
     "execution_count": 35,
     "metadata": {},
     "output_type": "execute_result"
    }
   ],
   "source": [
    "btree_recall"
   ]
  },
  {
   "cell_type": "markdown",
   "id": "67d8d31c-8615-44d5-8eef-7fee75b08895",
   "metadata": {},
   "source": [
    "Como se mencionó, la predicción final se puede realizar de dos manera en clasificación una es usando votación, como se vió en los códigos anteriores y la segunda es utilizando el promedio de las probabilidades. En el caso de las Máquinas de Soporte Vectorial, estas no calculan las probabilidad de cada clase, pero se cuenta con el valor de la función de decisión, en el siguiente código se usa está información, la segunda y tercera línea normaliza los valores para que ningún valor sea mayor que  y menor que\n",
    " y finalmente se calcula la suma para después seleccionar la clase que corresponde al argumento máximo."
   ]
  },
  {
   "cell_type": "code",
   "execution_count": 36,
   "id": "76736e6d-b5a9-456f-9db9-75884722a8fc",
   "metadata": {},
   "outputs": [],
   "source": [
    "hys = np.array([m.decision_function(G) for m in svc_ins])\n",
    "hys = np.where(hys > 1, 1, hys)\n",
    "hys = np.where(hys < -1, -1, hys)\n",
    "hys = hys.sum(axis=0)\n",
    "csvc_recall = recall_score(y_g, hys.argmax(axis=1),\n",
    "                           average=\"macro\")"
   ]
  },
  {
   "cell_type": "code",
   "execution_count": 37,
   "id": "f8d0930b-5fcf-4679-beba-bfb2296c1924",
   "metadata": {},
   "outputs": [
    {
     "data": {
      "text/plain": [
       "0.9532703949167365"
      ]
     },
     "execution_count": 37,
     "metadata": {},
     "output_type": "execute_result"
    }
   ],
   "source": [
    "csvc_recall"
   ]
  },
  {
   "cell_type": "code",
   "execution_count": 38,
   "id": "1f0f72d9-55b7-45fa-8c2c-be7be3e0fc1e",
   "metadata": {},
   "outputs": [
    {
     "data": {
      "text/plain": [
       "array([[-11.        , -11.        ,  11.        , ..., -11.        ,\n",
       "        -11.        , -11.        ],\n",
       "       [-11.        , -11.        , -11.        , ..., -11.        ,\n",
       "          4.68625196, -11.        ],\n",
       "       [-11.        , -11.        ,  11.        , ..., -11.        ,\n",
       "        -11.        , -11.        ],\n",
       "       ...,\n",
       "       [-11.        , -11.        , -11.        , ..., -11.        ,\n",
       "         -9.92361928, -11.        ],\n",
       "       [-11.        , -10.49018034, -11.        , ..., -11.        ,\n",
       "          0.68604995, -11.        ],\n",
       "       [-11.        , -11.        , -11.        , ..., -11.        ,\n",
       "         10.08302802, -11.        ]])"
      ]
     },
     "execution_count": 38,
     "metadata": {},
     "output_type": "execute_result"
    }
   ],
   "source": [
    "hys"
   ]
  },
  {
   "cell_type": "code",
   "execution_count": 39,
   "id": "565afc42-c09c-4c93-a613-cb98c1b69944",
   "metadata": {},
   "outputs": [],
   "source": [
    "hys = np.array([m.predict_proba(G)\n",
    "                for m in tree_ins])\n",
    "ctree_recall = recall_score(y_g,\n",
    "                            hys.sum(axis=0).argmax(axis=1),\n",
    "                            average=\"macro\")"
   ]
  },
  {
   "cell_type": "markdown",
   "id": "7e7daf79-947c-4652-a665-6318b3d1518e",
   "metadata": {},
   "source": [
    "Comparando los diferentes rendimientos, se puede observar que no existe mucha diferencia en rendimiento en las M.S.V Lineal y que la mayor mejora se presentó en los Árboles de Decisión. Este comportamiento es esperado dado que para que Bagging funciones adecuadamente requiere algoritmos inestables, es decir, algoritmos cuyo comportamiento cambia considerablemente con un cambio pequeño en el conjunto de entrenamiento, este es el caso de los Árboles. Por otro lado las M.S.V son algoritmos estables y un cambio pequeño en su conjunto de entrenamiento no tendrá una repercusión considerable en el comportamiento del algoritmo."
   ]
  },
  {
   "cell_type": "markdown",
   "id": "a30a2ead-2c6f-4410-890d-d5b4917ec18d",
   "metadata": {},
   "source": [
    "## Diabetes, dataset"
   ]
  },
  {
   "cell_type": "code",
   "execution_count": 40,
   "id": "80102bf2-4f28-436b-8c17-0a7cc41d3412",
   "metadata": {},
   "outputs": [],
   "source": [
    "# Obteniendo la información\n",
    "X, y = load_diabetes(return_X_y=True)\n",
    "T, G, y_t, y_g = train_test_split(X, y,\n",
    "                                  random_state=0,\n",
    "                                  test_size=0.2)"
   ]
  },
  {
   "cell_type": "code",
   "execution_count": 41,
   "id": "e718f733-abfe-4ccf-96f3-1ccd399c2dc4",
   "metadata": {},
   "outputs": [
    {
     "name": "stdout",
     "output_type": "stream",
     "text": [
      "(442, 10)\n",
      "(442,)\n"
     ]
    }
   ],
   "source": [
    "print(X.shape)\n",
    "print(y.shape)"
   ]
  },
  {
   "cell_type": "code",
   "execution_count": 42,
   "id": "ce517163-6574-4540-8911-5a83780f3259",
   "metadata": {},
   "outputs": [],
   "source": [
    "# Se impleementa el SVM y su macro recall TP/TP + FN"
   ]
  },
  {
   "cell_type": "code",
   "execution_count": 43,
   "id": "b6941212-3592-47c9-a905-3700a44ba44e",
   "metadata": {},
   "outputs": [],
   "source": [
    "svr = LinearSVR(dual='auto').fit(T, y_t)\n",
    "svr_mape = mean_absolute_percentage_error(y_g,\n",
    "                                          svr.predict(G))"
   ]
  },
  {
   "cell_type": "code",
   "execution_count": 44,
   "id": "66bf3719-16a6-499e-b6a5-d9e624a9e856",
   "metadata": {},
   "outputs": [
    {
     "data": {
      "text/plain": [
       "0.4130579878882991"
      ]
     },
     "execution_count": 44,
     "metadata": {},
     "output_type": "execute_result"
    }
   ],
   "source": [
    "svr_mape"
   ]
  },
  {
   "cell_type": "code",
   "execution_count": 45,
   "id": "a0c4f3dc-fcd4-419e-afb1-7339d22ba181",
   "metadata": {},
   "outputs": [],
   "source": [
    "# Implementación de árboles de decición\n",
    "tree = DecisionTreeRegressor(min_samples_split=9).fit(T,\n",
    "                                                      y_t)\n",
    "tree_mape = mean_absolute_percentage_error(y_g,\n",
    "                                           tree.predict(G))"
   ]
  },
  {
   "cell_type": "markdown",
   "id": "e7569c75-8178-48e4-af22-ac2e0faebc28",
   "metadata": {},
   "source": [
    "Al igual que en el caso de clasificación, la siguiente instrucción genera los índices para generar las muestras. Se hace un ensamble de elementos."
   ]
  },
  {
   "cell_type": "code",
   "execution_count": 46,
   "id": "af17611f-34a1-4776-98ca-2554e18db583",
   "metadata": {},
   "outputs": [],
   "source": [
    "B = np.random.randint(T.shape[0], size=(11, T.shape[0]))\n"
   ]
  },
  {
   "cell_type": "code",
   "execution_count": 47,
   "id": "6dd0c2b6-502c-4aae-aa63-e7cc55a11551",
   "metadata": {},
   "outputs": [
    {
     "data": {
      "text/plain": [
       "(11, 353)"
      ]
     },
     "execution_count": 47,
     "metadata": {},
     "output_type": "execute_result"
    }
   ],
   "source": [
    "B.shape"
   ]
  },
  {
   "cell_type": "markdown",
   "id": "e04c2e49-a91a-4a53-85e7-7d3670b1997f",
   "metadata": {},
   "source": [
    "En el caso de regresión, la predicción final corresponde al promedio de las predicciones individuales, la primera línea de las siguientes instrucciones se entrena las M.S.V Lineal, en la segunda instrucción se hacen las predicciones y se en la tercera se realiza el promedio y se mide el rendimiento."
   ]
  },
  {
   "cell_type": "code",
   "execution_count": 48,
   "id": "b23e2eba-c7e3-459c-8a4f-a7f3aa2b12d6",
   "metadata": {},
   "outputs": [],
   "source": [
    "svr_ins = [LinearSVR(dual='auto').fit(T[b], y_t[b])\n",
    "           for b in B]\n",
    "hys = np.array([m.predict(G) for m in svr_ins])\n",
    "bsvr_mape = mean_absolute_percentage_error(y_g,\n",
    "                                           hys.mean(axis=0))"
   ]
  },
  {
   "cell_type": "code",
   "execution_count": 49,
   "id": "281b0200-09a8-410f-a3a5-153621208daf",
   "metadata": {},
   "outputs": [
    {
     "data": {
      "text/plain": [
       "0.41379115116157383"
      ]
     },
     "execution_count": 49,
     "metadata": {},
     "output_type": "execute_result"
    }
   ],
   "source": [
    "bsvr_mape"
   ]
  },
  {
   "cell_type": "code",
   "execution_count": 50,
   "id": "de602c1c-61c9-4110-af34-240496cd97be",
   "metadata": {},
   "outputs": [],
   "source": [
    "# En el caso de los árboles: \n",
    "tree_ins = [DecisionTreeRegressor(min_samples_split=9).fit(T[b], y_t[b])\n",
    "            for b in B]\n",
    "hys = np.array([m.predict(G) for m in tree_ins])\n",
    "btree_mape = mean_absolute_percentage_error(y_g,\n",
    "                                            hys.mean(axis=0))"
   ]
  },
  {
   "cell_type": "code",
   "execution_count": 51,
   "id": "8159fb04-2c58-43f8-8071-c30696b00d53",
   "metadata": {},
   "outputs": [
    {
     "data": {
      "text/plain": [
       "0.3971608899217107"
      ]
     },
     "execution_count": 51,
     "metadata": {},
     "output_type": "execute_result"
    }
   ],
   "source": [
    "btree_mape"
   ]
  },
  {
   "cell_type": "markdown",
   "id": "f7df8026-943c-4d05-bf97-09d9b969fc6c",
   "metadata": {},
   "source": [
    "Hasta este momento los ensambles han sido de elementos, queda la duda como varía el rendimiento con respecto al tamaño del ensamble. La Figura muestra el rendimiento de Bagging utilizando Árboles de Decisión, cuando el ensamble cambia. Se observa que alrededor que hay un decremento importante cuando el ensamble es pequeño, después el error se incrementa y vuelve a bajar alrededor de \n",
    " Finalmente se ve que el rendimiento es estable cuando "
   ]
  },
  {
   "cell_type": "code",
   "execution_count": 52,
   "id": "f526570d-914f-45e4-8d3e-e371e2c3e79a",
   "metadata": {},
   "outputs": [
    {
     "data": {
      "image/png": "[encoded data removed]",
      "text/plain": [
       "<Figure size 500x500 with 1 Axes>"
      ]
     },
     "metadata": {},
     "output_type": "display_data"
    }
   ],
   "source": [
    "B = np.random.randint(T.shape[0], size=(500, T.shape[0]))\n",
    "tree_ins = [DecisionTreeRegressor(min_samples_split=9).fit(T[b], y_t[b]) for b in B]\n",
    "hys = np.array([m.predict(G) for m in tree_ins])\n",
    "\n",
    "M = range(2, len(tree_ins) + 1)\n",
    "p = [mean_absolute_percentage_error(y_g, \n",
    "                                    hys[:i].mean(axis=0))\n",
    "     for i in M]\n",
    "df = pd.DataFrame(dict(error=p, ensamble=M))\n",
    "sns.relplot(data=df, x='ensamble', y='error', kind='line')\n",
    "plt.savefig('performance.jpg')"
   ]
  },
  {
   "cell_type": "code",
   "execution_count": 53,
   "id": "5e8137f3-b08c-4543-8d92-ef35b3483a65",
   "metadata": {},
   "outputs": [
    {
     "name": "stdout",
     "output_type": "stream",
     "text": [
      "0.3836166237553875\n"
     ]
    },
    {
     "data": {
      "text/plain": [
       "0.3916489484552718"
      ]
     },
     "execution_count": 53,
     "metadata": {},
     "output_type": "execute_result"
    }
   ],
   "source": [
    "print(np.min(p))\n",
    "p[9]"
   ]
  },
  {
   "cell_type": "markdown",
   "id": "40834344-5a98-490f-9663-2a69b9e6a820",
   "metadata": {},
   "source": [
    "# Stacked_Generalization"
   ]
  },
  {
   "cell_type": "code",
   "execution_count": 54,
   "id": "0a3ac04f-0983-4411-abb1-63be04342067",
   "metadata": {},
   "outputs": [],
   "source": [
    "T1, V, y_t1, y_v = train_test_split(T, y_t,\n",
    "                                    test_size=0.3)"
   ]
  },
  {
   "cell_type": "markdown",
   "id": "795c4f0f-b0fa-40b5-9dfa-1118bb7153de",
   "metadata": {},
   "source": [
    "Para este ejemplo se usará como regresores bases el algoritmo de Vecinos Cercanos con diferentes parámetros (primera línea), después se usan los modelos para predecir el conjunto de validación (\r\n",
    ") y prueba (\r\n",
    "), esto se observa en la segunda y tercera línea del siguiente código."
   ]
  },
  {
   "cell_type": "code",
   "execution_count": 55,
   "id": "530fa655-7aeb-42e1-8032-5f6b55daf357",
   "metadata": {},
   "outputs": [],
   "source": [
    "models = [KNeighborsRegressor(n_neighbors=n).fit(T1, y_t1)\n",
    "          for n in [7, 9]]\n",
    "V_stack = np.array([m.predict(V) for m in models]).T\n",
    "G_stack = np.array([m.predict(G) for m in models]).T"
   ]
  },
  {
   "cell_type": "markdown",
   "id": "594c74d7-e728-449b-a02c-053b249cbab6",
   "metadata": {},
   "source": [
    "El porcentaje del error absoluto de los estimadores bases en el conjunto de prueba se puede calcular con el siguiente código\r\n"
   ]
  },
  {
   "cell_type": "code",
   "execution_count": 56,
   "id": "f9a7b4be-b1ec-49ee-b44e-b7378db341a1",
   "metadata": {},
   "outputs": [],
   "source": [
    "mape_test = []\n",
    "for hy in G_stack.T:\n",
    "  mape = mean_absolute_percentage_error(y_g, hy)\n",
    "  mape_test.append(mape)"
   ]
  },
  {
   "cell_type": "code",
   "execution_count": 57,
   "id": "27db0e52-fe97-4423-84a1-e356de2a132c",
   "metadata": {},
   "outputs": [
    {
     "data": {
      "text/plain": [
       "[0.3533591220304811, 0.35023663027291335]"
      ]
     },
     "execution_count": 57,
     "metadata": {},
     "output_type": "execute_result"
    }
   ],
   "source": [
    "mape_test"
   ]
  },
  {
   "cell_type": "markdown",
   "id": "437cc489-3aab-4880-aeca-f05f9bfbf8d2",
   "metadata": {},
   "source": [
    "Finalmente, es momento de entrenar el regresor que combinará las salidas de los estimadores bases, i.e., Vecinos Cercanos. Se decidió utilizar una Máquina de Soporte Vectorial con kernel polinomial de grado \n",
    ". Los parámetros de la máquina se estiman en la primera línea, y después se predicen los datos del conjunto de prueba."
   ]
  },
  {
   "cell_type": "code",
   "execution_count": 58,
   "id": "dd5ba5ff-0291-4e0f-89e0-a69dc8a5e286",
   "metadata": {},
   "outputs": [],
   "source": [
    "stacking = SVR(kernel='poly', degree=2).fit(V_stack, y_v)\n",
    "hy = stacking.predict(np.vstack(G_stack))"
   ]
  },
  {
   "cell_type": "markdown",
   "id": "00427a57-c9f4-43ef-a646-8c8dae9efe24",
   "metadata": {},
   "source": [
    "El error obtenido por este procedimiento es de \r\n",
    "; cabe mencionar que no en todos los casos el procedimiento de stacking consigue un mejor rendimiento que los estimadores bases, por ejemplo, en las siguientes instrucciones se entrena un Bagging con Árboles de Decisión para ser utilizado en lugar de la Máquina de Soporte Vectorial."
   ]
  },
  {
   "cell_type": "code",
   "execution_count": 59,
   "id": "9bbc7ad6-ed4d-4d52-958c-fb8268a859a6",
   "metadata": {},
   "outputs": [],
   "source": [
    "st_trees = BaggingRegressor(estimator=DecisionTreeRegressor(min_samples_split=9),\n",
    "                            n_estimators=200).fit(V_stack, y_v)\n",
    "hy = st_trees.predict(np.vstack(G_stack))\n",
    "mape = mean_absolute_percentage_error(y_g, hy)"
   ]
  },
  {
   "cell_type": "code",
   "execution_count": 60,
   "id": "b36cf211-3f60-4c91-b48f-44ca219eb3e8",
   "metadata": {},
   "outputs": [
    {
     "data": {
      "text/plain": [
       "0.4018155710190349"
      ]
     },
     "execution_count": 60,
     "metadata": {},
     "output_type": "execute_result"
    }
   ],
   "source": [
    "mape"
   ]
  }
 ],
 "metadata": {
  "kernelspec": {
   "display_name": "Python 3 (ipykernel)",
   "language": "python",
   "name": "python3"
  },
  "language_info": {
   "codemirror_mode": {
    "name": "ipython",
    "version": 3
   },
   "file_extension": ".py",
   "mimetype": "text/x-python",
   "name": "python",
   "nbconvert_exporter": "python",
   "pygments_lexer": "ipython3",
   "version": "3.10.11"
  }
 },
 "nbformat": 4,
 "nbformat_minor": 5
}
